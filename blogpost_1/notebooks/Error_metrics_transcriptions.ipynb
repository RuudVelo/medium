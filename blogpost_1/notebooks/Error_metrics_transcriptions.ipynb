{
  "nbformat": 4,
  "nbformat_minor": 0,
  "metadata": {
    "colab": {
      "provenance": []
    },
    "kernelspec": {
      "name": "python3",
      "display_name": "Python 3"
    },
    "language_info": {
      "name": "python"
    },
    "gpuClass": "standard"
  },
  "cells": [
    {
      "cell_type": "markdown",
      "source": [
        "# **Calculating WER/CER of transcripts**\n",
        "\n",
        "In this notebook accompanies the Medium blogpost **\"Text analytics on Dutch cycling training podcasts, part I Evaluating speech-to-text methods\"**. \n",
        "\n",
        "We will use the textual output of the four methods created in notebook **\"Methods for transcription\"** and simply calculate some performance (error) metrics, more specifically WER and CER. You can find the used transcription data files in this [folder](https://github.com/RuudVelo/medium/tree/main/blogpost_1/data)"
      ],
      "metadata": {
        "id": "2iWB6_tdQhkB"
      }
    },
    {
      "cell_type": "code",
      "execution_count": 1,
      "metadata": {
        "colab": {
          "base_uri": "https://localhost:8080/"
        },
        "id": "bow68yQnGl_5",
        "outputId": "0f46a27f-0e2a-44df-8f8d-c3329c0fc80e"
      },
      "outputs": [
        {
          "output_type": "stream",
          "name": "stdout",
          "text": [
            "Looking in indexes: https://pypi.org/simple, https://us-python.pkg.dev/colab-wheels/public/simple/\n",
            "Collecting jiwer\n",
            "  Downloading jiwer-2.5.1-py3-none-any.whl (15 kB)\n",
            "Collecting levenshtein==0.20.2\n",
            "  Downloading Levenshtein-0.20.2-cp38-cp38-manylinux_2_17_x86_64.manylinux2014_x86_64.whl (1.4 MB)\n",
            "\u001b[2K     \u001b[90m━━━━━━━━━━━━━━━━━━━━━━━━━━━━━━━━━━━━━━━━\u001b[0m \u001b[32m1.4/1.4 MB\u001b[0m \u001b[31m18.2 MB/s\u001b[0m eta \u001b[36m0:00:00\u001b[0m\n",
            "\u001b[?25hCollecting rapidfuzz<3.0.0,>=2.3.0\n",
            "  Downloading rapidfuzz-2.13.7-cp38-cp38-manylinux_2_17_x86_64.manylinux2014_x86_64.whl (2.2 MB)\n",
            "\u001b[2K     \u001b[90m━━━━━━━━━━━━━━━━━━━━━━━━━━━━━━━━━━━━━━━━\u001b[0m \u001b[32m2.2/2.2 MB\u001b[0m \u001b[31m48.8 MB/s\u001b[0m eta \u001b[36m0:00:00\u001b[0m\n",
            "\u001b[?25hInstalling collected packages: rapidfuzz, levenshtein, jiwer\n",
            "Successfully installed jiwer-2.5.1 levenshtein-0.20.2 rapidfuzz-2.13.7\n",
            "Looking in indexes: https://pypi.org/simple, https://us-python.pkg.dev/colab-wheels/public/simple/\n",
            "Collecting num2words\n",
            "  Downloading num2words-0.5.12-py3-none-any.whl (125 kB)\n",
            "\u001b[2K     \u001b[90m━━━━━━━━━━━━━━━━━━━━━━━━━━━━━━━━━━━━━━━\u001b[0m \u001b[32m125.2/125.2 KB\u001b[0m \u001b[31m4.0 MB/s\u001b[0m eta \u001b[36m0:00:00\u001b[0m\n",
            "\u001b[?25hCollecting docopt>=0.6.2\n",
            "  Downloading docopt-0.6.2.tar.gz (25 kB)\n",
            "  Preparing metadata (setup.py) ... \u001b[?25l\u001b[?25hdone\n",
            "Building wheels for collected packages: docopt\n",
            "  Building wheel for docopt (setup.py) ... \u001b[?25l\u001b[?25hdone\n",
            "  Created wheel for docopt: filename=docopt-0.6.2-py2.py3-none-any.whl size=13723 sha256=facfb0fe42adef3afc9c2b0af2c7b0b02887df75724145cc803106490886c5ec\n",
            "  Stored in directory: /root/.cache/pip/wheels/56/ea/58/ead137b087d9e326852a851351d1debf4ada529b6ac0ec4e8c\n",
            "Successfully built docopt\n",
            "Installing collected packages: docopt, num2words\n",
            "Successfully installed docopt-0.6.2 num2words-0.5.12\n"
          ]
        }
      ],
      "source": [
        "# Install necessary packages\n",
        "\n",
        "!pip install jiwer\n",
        "!pip install num2words"
      ]
    },
    {
      "cell_type": "code",
      "source": [
        "# import libraries\n",
        "\n",
        "import re\n",
        "import os\n",
        "import json\n",
        "import numpy as np\n",
        "\n",
        "from num2words import num2words\n",
        "\n",
        "import jiwer\n",
        "from jiwer import wer, cer\n",
        "\n",
        "from google.colab import drive"
      ],
      "metadata": {
        "id": "_P1TYivkicIf"
      },
      "execution_count": 2,
      "outputs": []
    },
    {
      "cell_type": "code",
      "source": [
        "# set Google drive and select folder\n",
        "drive.mount('/content/drive')\n",
        "\n",
        "os.chdir(\"drive/My Drive/Colab Notebooks/beter_worden_podcasts\")"
      ],
      "metadata": {
        "colab": {
          "base_uri": "https://localhost:8080/"
        },
        "id": "axp3fZfHHJwH",
        "outputId": "1bcf3867-57e4-4672-a237-cdf807fc8969"
      },
      "execution_count": 3,
      "outputs": [
        {
          "output_type": "stream",
          "name": "stdout",
          "text": [
            "Mounted at /content/drive\n"
          ]
        }
      ]
    },
    {
      "cell_type": "code",
      "source": [
        "# read in the files. Since they all have slightly different content they are loaded seperately\n",
        "\n",
        "# read ground truth file\n",
        "f = open(\"BW_PD_EP_54_SCHAKELEN_GROUND_TRUTH.json\")\n",
        "ground_truth = json.load(f)['text'] \n",
        "\n",
        "# read Youtube subtitles\n",
        "f = open(\"youtube_subtitles.jsonl\")\n",
        "hypothesis_youtube = json.load(f) \n",
        "\n",
        "# read Vosk transcription\n",
        "f = open(\"vosk_subtitles.jsonl\")\n",
        "hypothesis_vosk = json.load(f) \n",
        "\n",
        "# read Wav2Vec2 transcription\n",
        "f = open(\"GroNLP_wav2vec2_dutch_large_ft_cgn_transcription.json\")\n",
        "hypothesis_wav2vec2 = json.load(f)['text']\n",
        "\n",
        "# read Whisper transcription\n",
        "f = open(\"BW_PD_EP_54_SCHAKELEN_WHISPER_LARGE_V1_TS.jsonl\")\n",
        "hypothesis_whisper = json.load(f) \n",
        "hypothesis_whisper = \"\".join([item['text'] for item in hypothesis_whisper])"
      ],
      "metadata": {
        "id": "qWsJlUVqTbQx"
      },
      "execution_count": 4,
      "outputs": []
    },
    {
      "cell_type": "code",
      "source": [
        "# see some example text\n",
        "\n",
        "ground_truth[:2000]"
      ],
      "metadata": {
        "colab": {
          "base_uri": "https://localhost:8080/",
          "height": 140
        },
        "id": "kBfzF00Sqqp0",
        "outputId": "60e7b7fa-6cba-4be8-9ef7-45979ebb3989"
      },
      "execution_count": 9,
      "outputs": [
        {
          "output_type": "execute_result",
          "data": {
            "text/plain": [
              "' Deze podcast maken we samen met Join.cc, de fietsapp voor alle wielrenners. Zin om te fietsen? Geen zin om te fietsen. Toch gaan. Jezelf op die fiets trekken. Regen, hitte, omhoog omlaag, zweten puffen, slechte poten, wonderbenen, genieten, kapot gaan, los trappen, bijtanken, douchen en door. Het leven van een renner gaat niet over rozen en al helemaal niet, als je jezelf wilt verbeteren. Maar hoe dan? Waar moet ik nou op letten als ik gericht beter wil worden? Als ik harder of verder wil gaan? Gewoon fitter wil worden en meer wil genieten op de fiets? We gaan het hebben over trainen. Eten. Slapen. Op zoek naar de kennis, maar vooral ook naar de tips en slimmigheidjes waar we morgen mee aan de slag kunnen. Je luistert naar de Beter Worden podcast van Live Slow Ride Fast. Rechtstreeks vanuit hotel Valkenburg in het mooie Zuid Limburg. Mijn naam is Stefan Bolt en tegenover mij zitten ze Laurens en Ten Dam en Jim van den Berg. Lau, als je naar je grote blad achter wil schakelen, welke hendel pak je dan? Links. Ja, dit is vals spelen. Nee, grote blad, dat kan helemaal niet man. Of naar je spaken. Dat is toch je grote blad achter? Ja, nee. Groot en klein is ook een semantische discussie. In jouw wereld is het groot, maar bij mij is het gewoon nog 11- 25 achter. Je vindt 25 niet zo groot? Nee. Dat is al een behoorlijke pannenkoek. Hier lopen nu dus een paar dingen door elkaar. Een groter schakelen of kleiner schakelen. Dat is gek, want die zag ik laatst op heel draadje op Twitter gingen mensen los op. Namelijk groter, dat is toch gek? Want mensen bedoelen vaak dat je naar je kleine, naar je kleinere naar je 11 gaat achter. Dat noemen ze een groter. Terwijl het tandwieltje kleiner is. Ik schreeuwde ook laatst tegen iemand tandje erbij. En die begon ook zo, ja maar dan moet ik lichter schakelen. Dit is een onderwerp. Ook als je het vertaalt naar het Engels, gaat het helemaal mis. Ja, we gaan het over schakelen hebben. Ja, bigger gear. Wat is bigger gear? Ga je dan zwaarder'"
            ],
            "application/vnd.google.colaboratory.intrinsic+json": {
              "type": "string"
            }
          },
          "metadata": {},
          "execution_count": 9
        }
      ]
    },
    {
      "cell_type": "code",
      "source": [
        "# see some example text\n",
        "\n",
        "hypothesis_youtube[:2000]"
      ],
      "metadata": {
        "colab": {
          "base_uri": "https://localhost:8080/",
          "height": 140
        },
        "id": "6BqOXlEwtC4y",
        "outputId": "656689df-8ba9-4a8e-8291-21fceccd02ec"
      },
      "execution_count": 10,
      "outputs": [
        {
          "output_type": "execute_result",
          "data": {
            "text/plain": [
              "'deze podcast maken we samen met CC de fiets heb voor alle wielrenners toch gaan jezelf op die fiets trekken regen hitte omhoog omlaag zweet te puffen slechte poten wonder benen genieten kapot gaan los trappen bij tanken douchen en door het leven van Arena gaat niet over rozen en nou helemaal niet als je er heel veel verbeteren Maar hoe dan waar moet ik nou opletten als ik gericht beter wil worden als ik harder hoe verder wil gaan gewoon fitter wil worden en meer wil genieten op de fiets We gaan het hebben over trainen heten slapen zoek naar de kennisma vooral ook naar de tips en slimme Geitjes waar we morgen mee aan de slag kunnen je luistert naar de beter worden podcast van livslow Right Fast rechtstreeks vanuit hotel Valkenburg in het mooie zuid-limburg mijn naam is Stefan Bolt en tegenover mij zitten ze Laurens en dan en Jim van de Berg als je naar je grote plat achter wil schakelen Welke hendel pak je dan Thanks Peter Nee ik bedoel in jouw wereld is het groot maar bij mij is het gewoon nog 1125 hoor achter Dus Nee groter een groter Schakel of kleiner schakelen dat is dat is gek hè Want je je groot Dit is dit is een eh die Zag ik laatst op een heel draadje op Twitter ging bij mensen los opnamelijk Ja groter dat is toch gek want als je mensen bedoelden vaak dat je naar een kleiner dat je naar je kleine 11 gaat achter en dan noemen ze een groter terwijl tanddeeltje kleiner is iemand tandje erbij die begon ook zo ja maar dan is het toch dat moet ik licht inschakelen Ja dit dit is een onderwerp We gaan vandaag schakelen hebben gaat het helemaal mis We gaan het overschakelen hebben ja biggear van Wat is biggear ga je dan zwaarder of ga je of ja die bladerde groter Het is echt heel gek er zijn mensen al een beetje aan gewend maar dat is natuurlijk gek en en Nou dan kom jij natuurlijk met je met een onnugterende opmerking van ja maar het gaat erom dat we de verhouding in de verhouding wordt groter zeg maar 50 10 dat is vijf dus dat is een grotere versnelling dan 50 12 w'"
            ],
            "application/vnd.google.colaboratory.intrinsic+json": {
              "type": "string"
            }
          },
          "metadata": {},
          "execution_count": 10
        }
      ]
    },
    {
      "cell_type": "code",
      "source": [
        "# see some example text\n",
        "\n",
        "hypothesis_vosk[:4000]"
      ],
      "metadata": {
        "colab": {
          "base_uri": "https://localhost:8080/",
          "height": 140
        },
        "id": "H5vkh6rmU73s",
        "outputId": "4d50998e-203a-4195-cc6f-d1ad54d92708"
      },
      "execution_count": 11,
      "outputs": [
        {
          "output_type": "execute_result",
          "data": {
            "text/plain": [
              "'  deze podcast maken we samen met joint punt c de fietsen heb voor alle wielrenners twee uur het totaal niet baten en zin om te fietsen geen zin om te fietsen toch gaan jezelf op de fiets trekken regen hitte omhoog omlaag zweten buffer slechte boten wonnen bijna geen niet de kapot gaan lossen trap wat bij denken douchen en door het leven van een renner gaat niet over rozen en al helemaal niet als je jezelf wil verbeteren maar hoe dan waar moet ik nou op letten als ik gericht beter wil worden als ik harde verder wil gaan gewoon fitter wil worden en nu genieten op de fiets gaan het hebben over trainer eten slapen zoek naar de kennis maar vooral ook naar de tips en slimmigheidje is lange morgen mee aan de slag kunnen u luistert naar de beter worden podcast van lichtsnelheid vereist rechtstreeks vanuit hotel valkenburg in een mooie zuid-limburg mijn naam is een boot en tegenover mij zitten ze laurens ten dam en team van de berg ja blauw als je naar je grote plat achter schakelen welke hendel pakje lees ja grote belang dat kan helemaal niet boom de of naar mij wat voor mij ik doen maar dat kan wel ook leuks bij sprake is in uitspraak doen alsof je gaat wat echt bij ja nee groot en klein is in jouw wereld is het groot maar bewijst gewoon nog elf vijfentwintig achter ze vuist in het niet nee aan boord tandjes zijn behoorlijke paniek deze kijk hier lopen die paar dingen door elkaar een groter en groter schakelen of kleine schakelen je hebt is dat het gekke je groot bed is dit is een die zag ik laatst op wereld draait door twee mensen los op malen groter is te gek want mensen willen vaak dat je mijn kleine dat je mee plein waar je helft gaat achter en noem noemen ze een groter beeld kleine dat laatste iemand tandje erbij ja die grote ja maar dan is de moet ligt ja de dit is een onderwerp gaat het helemaal mis ja we gaan het overschrijdt willen hebben ja be die van wat wat is binnen dier ja schaar ga je dan zwaarder of gij standjes of ja vergroot bladeren u zegt heel gek zijn met de al een beetje aan gewend maar dat doe ik gek en en en nou kom jij natuurlijk met je een ontnuchterend de opmerkingen van ja maar het gaat erom dat we de de verhouding in de verhouding wordt grote zeg maar vijftig team dat is vijf dus dat ze grotere versnelling dan vijftig twaalf want dat is vijftig twaalf en half zo vier zijn snap je gaat om de ratio de ja nou een grote en kleine raad vroeger werd het ook daar zit eiland wel nuchter en vroeger weten het ook wel eens is ja we kunnen toch vind ik dit is toch grijpen wij zit nieuwe nieuwe de delen aflevering te bereiden twee weken lois op deze discussie allemaal ze mijn pik ze worden bijgehouden jonge er en hij gaat het eigenlijk plat lanzarote ja ja we waarderen inbreng mag ik gaan we gaan we gaan het hebben over schakelen ja krijgen en verzetten beetje denk ik oh ja en verzetten ja die de wat eigenlijk daar komt eigenlijk cadans we gaan het hebben over de drie doek driehoek verzetten cadans schakelen maar het is geen getriggerd door het woord of door het het verschijnsel schakelen waarom nou omdat het best vaak misgaat ja en ik denk ook omdat de nederlandse polder de wielrenner niet per se heel vaak ze deden je hoeft te gebruiken bij bent van huis uit meegekregen de het deze hoeft niet met de paplepel ingegoten een versie en dan willen nog wel eens mis gaan en merk je dat in zeg maar heen en u in of peloton dat dat dat afgelegd me heel is graag die wijze voor de de en dat het spanjaarden wel tegen elkaar zeggen wat leuk we allemaal zeer kunnen we zeggen dat het en en een begin is kwestie is schakelen ja of gaat het op het mee zeker kijken hoe meer je beginnend bent hoe lastiger het natuurlijk is en hoe meer trainer jury maakt en hoe vaak je omstandigheden komt dat het fout gaat die hoopgevend leert wel een beetje maar ja toch gek genoeg mensen die al best wel bang op de fiets zitten of en gewoon paar jaar fietsen en dan toch nog wel eens na bocht of eigenlijk dus voor een bocht vergeet te schakelen maar is be'"
            ],
            "application/vnd.google.colaboratory.intrinsic+json": {
              "type": "string"
            }
          },
          "metadata": {},
          "execution_count": 11
        }
      ]
    },
    {
      "cell_type": "code",
      "source": [
        "# see some example text\n",
        "\n",
        "hypothesis_wav2vec2[:2500].lower()"
      ],
      "metadata": {
        "colab": {
          "base_uri": "https://localhost:8080/",
          "height": 140
        },
        "id": "gB8yKvxGqq6p",
        "outputId": "5dacb4e3-44d9-4474-e30a-30f48eac450c"
      },
      "execution_count": 19,
      "outputs": [
        {
          "output_type": "execute_result",
          "data": {
            "text/plain": [
              "\"deze potkaast maken we samen met joyn puntcc de fietsep voor alle wielrenners tepre werv tel w telv nyv wetv tre env otv zin om te fietsen geen zin om te fietsen toch gaan jezelf op die fiets trekken regen hitte omhoog omlaag zweet te puffen slechte pote wonderbenen geniet te kapot gaan lostrappen bijtankendouche en door 't leven van een renner gaat niet over rose en nou helemaal niet als je jezelf wil verbeteren maar hoe dan wat moet ik nou opletten als ik gericht beter wil worden als ik harder of verder wil gaan gewoon fitter wil worden en meer wil genieten op de fiets we gaan 't hebben over trainen heten slapen zoek naar de kennis maar vooral ook naar de tips en slimmigheidjes waar we morgen mee aan de slag kunnen je luistert naar de betuwordepotcast van lipslow rit fest rechtstreeks vanuit hotel valkenburg in 't mooie zuid-limburg mijn names stefenbold en tegenover mij zit te sub lauensen dan en jim van denberg   uh   i  niet niet lau als je naar je grote blad achter wil schakelen welke hendel pak je dan? links ja jullie me gro al wat oder gneje grote bla laa dat kan helemaal niet man of naar je naar je bladfor naar ik bedoel naar je dat kan wel hèa  ba ook liks maar je spraken ja als je naar sprake toe was toch jen grote blad achter ja nee uht grote klein is ook zo in jouw werel in jouw wereld is d't groot maar bij mij is 't gewoon nog elf vijfentwintig hoor achter dus ah ben jeou je vindt vijfentwintig niet zo groot nee 't ist gewoon en mooite waatandjes dat zin een behoorlijke pannekoe een e kijk hier lopen dus een paar dingen door elkaar een groter uhgrote schakel of kleine schakelen dat is wat is gek hè want je uh groa dit is dit is een uh die zag ik laatst op een heel draadje of 't wit en gingt bij mensen loss op namelijk ja groter da's toch gek want als je  mensen bedoelen vaak dat je nau ek kleiner dat je naar je  kleiner znar je maar  maar je helft gaat achter en dan noemen ze dat groter ta ant wieltje kleiner een schreeuw d'r ook laatst zeggen iemand tandje d'rbij ja  be gewo ok zo ja maar dan ia o dog moet 'k licht e schakelenja dit dit is een onderwerp waar an no  daar  taamaking hebben gaat 't helemaal mis? ja we gaan 't over schakelen hebben ja bigga gere van waa wat is bigga gere ja schaa uh ga je dan zwaarder? of ga je dan gaan we schakes of ga ja hof e gas de rekladag ton ten ja t is echt heel gek d'r zijn we mensen al een beetje aan gewend maar dat is natuurlijk gek en en en nou dou kom jij natuurlijk met je met een ontnuchterende oor\""
            ],
            "application/vnd.google.colaboratory.intrinsic+json": {
              "type": "string"
            }
          },
          "metadata": {},
          "execution_count": 19
        }
      ]
    },
    {
      "cell_type": "code",
      "source": [
        "# see some example text\n",
        "\n",
        "hypothesis_whisper[:2500]"
      ],
      "metadata": {
        "colab": {
          "base_uri": "https://localhost:8080/",
          "height": 140
        },
        "id": "1KJyzu-FdBpj",
        "outputId": "a75d44bb-efa1-4976-d168-8398eb7a9a52"
      },
      "execution_count": 13,
      "outputs": [
        {
          "output_type": "execute_result",
          "data": {
            "text/plain": [
              "\" Deze podcast maken we samen met Join.cc, de fietsapp voor alle wielrenners. Zin om te fietsen? Geen zin om te fietsen. Toch gaan. Jezelf op die fiets trekken. Regen, hitte, omhoog omlaag, zweet te puffen, slechte poten, wonderbenen, genieten, kapotgaan, los trappen, bijtanken, douchen en door. Het leven van een renner gaat niet over rozen en nou helemaal niet, als je jezelf wil verbeteren. Maar hoe dan? Waar moet ik nou op letten als ik gericht beter wil worden? Als ik harder of verder wil gaan? Gewoon fitter wil worden en meer wil genieten op de fiets? We gaan het hebben over trainen, eten, slapen. Ik ben Steven Bolt en tegenover mij zitten ze Laurence St. Dan en Jim van den Berg. Lau, als je naar je grote blad achter wilt schakelen, welke hendel pak je dan? Links. Ja, die is pal spelen. Naar je grote blad achter, dat kan helemaal niet man. Of naar je... Kleine blad voor. Nee, ik bedoel naar je spaken. Als je naar je spaken toe is. Dat is toch je grote blad achter? Ja, nee. Grote en klein is ook een man. In jouw wereld is het groot, maar bij mij is het gewoon nog 11,25 achter. Je vindt 25 niet zo groot? Nee. Dat is gewoon een behoorlijke pannenkoek. Hier lopen nu een paar dingen door elkaar. Een groter schakelen of een kleiner schakelen. Dat is gek, hè? Want dit is... Die zag ik laatst op een heel draadje op Twitter, ging er mensen los op namelijk. Ja, groter, dat is toch gek? Mensen bedoelen vaak dat je naar je kleine... Ik snap het echt niet.... naar je helft gaat achter, en dat noemen ze dan groter, terwijl het ontwieldje kleiner is. Ik schreeuwde ook laatst tegen iemand tandje erbij. En die begon ook zo... Ja, maar dan moet ik lichter schakelen. Dit is een onderwerp. We gaan het vandaag over schakelen hebben. Ook als je het vertaalt in het Engels, gaat het helemaal mis. We gaan het over schakelen hebben. Ja, bigger gear. Wat is bigger gear? Ga je dan zwaarder of ga je... Dan ga je tandjes. Ja, hoeveel procent de bladig groter? Dit is echt heel gek. We zijn met z'n allen een beetje aan gewend, maar dat is natuurlijk gek. En nou kom jij natuurlijk met een ontnuchterende opmerking van jammer. Het gaat toch om de verhouding. En de verhouding wordt groter. Zeg maar 50-10, dat is vijf. Dus dat is een grotere versnelling dan 50-12, want dat is... 50-12 en een half zou vier zijn. Snap je? Het gaat om de ratio dus. Daarom heet het ding. Een groter en een kleiner ratio. En vroeger werd het ook... Daarom zit hij hier. Vroeger werd het ook... Onduchterend. Vroeg\""
            ],
            "application/vnd.google.colaboratory.intrinsic+json": {
              "type": "string"
            }
          },
          "metadata": {},
          "execution_count": 13
        }
      ]
    },
    {
      "cell_type": "code",
      "source": [
        "# Define function to convert numbers to words\n",
        "\n",
        "def text_num2words(text):\n",
        "  list_string = [text]\n",
        "  output_string = [re.sub('(\\d+)', lambda m: num2words(m.group(), lang='nl'), sentence) for sentence in list_string]\n",
        "  output_string = ''.join(output_string).strip()\n",
        "  return output_string"
      ],
      "metadata": {
        "id": "mCpGknbpanPV"
      },
      "execution_count": 5,
      "outputs": []
    },
    {
      "cell_type": "code",
      "source": [
        "# Invoke the function to convert numbers to words in the transcriptions\n",
        "\n",
        "ground_truth_num2words = text_num2words(ground_truth)\n",
        "hypothesis_youtube_num2words = text_num2words(hypothesis_youtube)\n",
        "hypothesis_vosk_num2words = text_num2words(hypothesis_vosk) \n",
        "hypothesis_wav2vec2_num2words = text_num2words(hypothesis_wav2vec2)\n",
        "hypothesis_whisper_num2words = text_num2words(hypothesis_whisper)"
      ],
      "metadata": {
        "id": "WTKbGP4-bbiq"
      },
      "execution_count": 6,
      "outputs": []
    },
    {
      "cell_type": "code",
      "source": [
        "# Define function to calculate WER and CER\n",
        "\n",
        "def wer_cer(ground_truth, sst_transcript):\n",
        "  word_error = np.round(wer(ground_truth, sst_transcript),3)\n",
        "  character_error = np.round(cer(ground_truth, sst_transcript),3)\n",
        "  return print(word_error, 'wer'), print(character_error, 'cer')"
      ],
      "metadata": {
        "id": "EAdDHiiucbyt"
      },
      "execution_count": 20,
      "outputs": []
    },
    {
      "cell_type": "code",
      "source": [
        "# Invoke the functions per method\n",
        "\n",
        "print(\"Youtube transcription:\")\n",
        "wer_cer(ground_truth, hypothesis_youtube_num2words)\n",
        "\n",
        "print(\"Vosk transcription:\")\n",
        "wer_cer(ground_truth, hypothesis_vosk_num2words)\n",
        "\n",
        "print(\"Wav2Vec2 transcription:\")\n",
        "wer_cer(ground_truth, hypothesis_wav2vec2_num2words)\n",
        "\n",
        "print(\"Whisper transcription:\")\n",
        "wer_cer(ground_truth, hypothesis_whisper_num2words);"
      ],
      "metadata": {
        "colab": {
          "base_uri": "https://localhost:8080/"
        },
        "id": "g1405P7WivP8",
        "outputId": "a208f36e-b950-4be6-e36b-327e6abceb0b"
      },
      "execution_count": 23,
      "outputs": [
        {
          "output_type": "stream",
          "name": "stdout",
          "text": [
            "Youtube transcription:\n",
            "0.592 wer\n",
            "0.358 cer\n",
            "Vosk transcription:\n",
            "0.651 wer\n",
            "0.388 cer\n",
            "Wav2Vec2 transcription:\n",
            "1.2 wer\n",
            "0.955 cer\n",
            "Whisper transcription:\n",
            "0.261 wer\n",
            "0.196 cer\n"
          ]
        }
      ]
    },
    {
      "cell_type": "code",
      "source": [
        "# Use transformation to normalize WER\n",
        "\n",
        "transformation = jiwer.Compose([\n",
        "    jiwer.ToLowerCase(),\n",
        "    jiwer.RemoveWhiteSpace(replace_by_space=True),\n",
        "    jiwer.RemoveMultipleSpaces(),\n",
        "    jiwer.ReduceToListOfListOfWords(word_delimiter=\" \")\n",
        "])"
      ],
      "metadata": {
        "id": "jN9jQ8bxkMhe"
      },
      "execution_count": 9,
      "outputs": []
    },
    {
      "cell_type": "code",
      "source": [
        "# Print the normalized WER per transcription method\n",
        "\n",
        "print(np.round(jiwer.wer(\n",
        "    ground_truth, \n",
        "    hypothesis_youtube, \n",
        "    truth_transform=transformation, \n",
        "    hypothesis_transform=transformation),3\n",
        "),\"Youtube transcription\")\n",
        "\n",
        "print(np.round(jiwer.wer(\n",
        "    ground_truth, \n",
        "    hypothesis_vosk, \n",
        "    truth_transform=transformation, \n",
        "    hypothesis_transform=transformation),3\n",
        "), \"Vosk\")\n",
        "\n",
        "print(np.round(jiwer.wer(\n",
        "    ground_truth, \n",
        "    hypothesis_wav2vec2, \n",
        "    truth_transform=transformation, \n",
        "    hypothesis_transform=transformation),3\n",
        "),\"Wav2Vec\")\n",
        "\n",
        "print(np.round(jiwer.wer(\n",
        "    ground_truth, \n",
        "    hypothesis_whisper, \n",
        "    truth_transform=transformation, \n",
        "    hypothesis_transform=transformation),3\n",
        "),\"Whisper\")"
      ],
      "metadata": {
        "colab": {
          "base_uri": "https://localhost:8080/"
        },
        "id": "ij-0RzGsWSzO",
        "outputId": "18285582-4742-4361-c668-4d1982799ab0"
      },
      "execution_count": 19,
      "outputs": [
        {
          "output_type": "stream",
          "name": "stdout",
          "text": [
            "0.537 Youtube transcription\n",
            "0.607 Vosk\n",
            "0.636 Wav2Vec\n",
            "0.227 Whisper\n"
          ]
        }
      ]
    }
  ]
}